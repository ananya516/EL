{
  "nbformat": 4,
  "nbformat_minor": 0,
  "metadata": {
    "colab": {
      "provenance": []
    },
    "kernelspec": {
      "name": "python3",
      "display_name": "Python 3"
    },
    "language_info": {
      "name": "python"
    }
  },
  "cells": [
    {
      "cell_type": "code",
      "execution_count": null,
      "metadata": {
        "id": "9ekG4d-dKK3G"
      },
      "outputs": [],
      "source": [
        "1. Can we use Bagging for regression problems?\n",
        "Yes, Bagging can be used for regression problems. Instead of taking a majority vote like in classification, it averages the predictions from all base regressors to get the final output.\n",
        "\n",
        "2. What is the difference between multiple model training and single model training?\n",
        "Single model training involves training one model on the entire dataset.\n",
        "Multiple model training involves training several models on different subsets or different configurations of the dataset and combining their predictions to improve performance.\n",
        "\n",
        "3. Explain the concept of feature randomness in Random Forest.\n",
        "In Random Forest, at each split in the tree, a random subset of features is selected instead of considering all features. This reduces correlation between trees and improves generalization.\n",
        "\n",
        "4. What is OOB (Out-of-Bag) Score?\n",
        "OOB Score is an internal validation score in Bagging. It is calculated by using the samples that were not included in the bootstrap sample (called OOB samples) to test the model trained on that bootstrap sample.\n",
        "\n",
        "5. How can you measure the importance of features in a Random Forest model?\n",
        "Feature importance can be measured by checking how much each feature reduces impurity (like Gini or entropy) across all trees, or by using permutation importance where the feature is randomly shuffled to see the impact on model performance.\n",
        "\n",
        "6. Explain the working principle of a Bagging Classifier.\n",
        "\n",
        "Create multiple bootstrap samples from the training data.\n",
        "\n",
        "Train a base classifier on each sample.\n",
        "\n",
        "Combine predictions from all models using majority voting.\n",
        "\n",
        "7. How do you evaluate a Bagging Classifier’s performance?\n",
        "You can evaluate using metrics like accuracy, precision, recall, F1-score, and cross-validation. You can also use the Out-of-Bag (OOB) score if available.\n",
        "\n",
        "8. How does a Bagging Regressor work?\n",
        "Bagging Regressor works similarly to Bagging Classifier, but instead of voting, it averages the predictions of all base regressors to give the final result.\n",
        "\n",
        "9. What is the main advantage of ensemble techniques?\n",
        "Ensemble techniques improve accuracy, reduce overfitting, and create a more robust and stable model by combining predictions from multiple models.\n",
        "\n",
        "10. What is the main challenge of ensemble methods?\n",
        "They increase computational complexity, reduce interpretability, and require more training time and memory compared to single models.\n",
        "\n",
        "11. Explain the key idea behind ensemble techniques.\n",
        "The key idea is to combine multiple weaker models to form a stronger overall model that performs better than any individual model.\n",
        "\n",
        "12. What is a Random Forest Classifier?\n",
        "Random Forest Classifier is an ensemble model that uses multiple Decision Trees trained on different bootstrap samples and with random feature selection. Predictions are made by majority voting.\n",
        "\n",
        "13. What are the main types of ensemble techniques?\n",
        "The main types are Bagging, Boosting, Stacking, and Voting.\n",
        "\n",
        "14. What is ensemble learning in machine learning?\n",
        "Ensemble learning is a technique where multiple models are trained and combined to solve the same problem for better accuracy and generalization.\n",
        "\n",
        "15. When should we avoid using ensemble methods?\n",
        "Avoid ensemble methods when the dataset is very small, when model interpretability is a high priority, or when you have limited computational resources.\n",
        "\n",
        "16. How does Bagging help in reducing overfitting?\n",
        "Bagging reduces overfitting by training multiple models on different random samples of the data, which reduces variance and makes the model more stable.\n",
        "\n",
        "17. Why is Random Forest better than a single Decision Tree?\n",
        "Random Forest is better because it reduces overfitting, improves accuracy, handles noise better, and is more robust due to the averaging of multiple trees.\n",
        "\n",
        "18. What is the role of bootstrap sampling in Bagging?\n",
        "Bootstrap sampling creates different training sets by randomly sampling with replacement. This introduces diversity among the base models, which improves generalization when their predictions are combined.\n",
        "\n",
        "19. What are some real-world applications of ensemble techniques?\n",
        "Some applications are fraud detection, credit scoring, medical diagnosis, recommendation systems, sentiment analysis, stock market prediction, and face recognition.\n",
        "\n",
        "20. What is the difference between Bagging and Boosting?\n",
        "Bagging trains multiple models independently on random samples and combines their results.\n",
        "Boosting trains models sequentially, with each new model trying to correct the errors of the previous one.\n",
        "Bagging reduces variance, while Boosting reduces bias."
      ]
    },
    {
      "cell_type": "code",
      "source": [
        "from sklearn.ensemble import BaggingClassifier\n",
        "from sklearn.tree import DecisionTreeClassifier\n",
        "from sklearn.datasets import load_iris\n",
        "from sklearn.model_selection import train_test_split\n",
        "from sklearn.metrics import accuracy_score\n",
        "\n",
        "# Load data\n",
        "X, y = load_iris(return_X_y=True)\n",
        "X_train, X_test, y_train, y_test = train_test_split(X, y, test_size=0.3, random_state=42)\n",
        "\n",
        "# Create Bagging Classifier\n",
        "model = BaggingClassifier(estimator=DecisionTreeClassifier(), n_estimators=10, random_state=42)\n",
        "model.fit(X_train, y_train)\n",
        "\n",
        "# Predict and evaluate\n",
        "y_pred = model.predict(X_test)\n",
        "print(\"Accuracy:\", accuracy_score(y_test, y_pred))\n",
        "\n"
      ],
      "metadata": {
        "colab": {
          "base_uri": "https://localhost:8080/"
        },
        "id": "goWwRWrOFGlN",
        "outputId": "3050ab36-a752-4f65-f536-a3cfda1d5af3"
      },
      "execution_count": 3,
      "outputs": [
        {
          "output_type": "stream",
          "name": "stdout",
          "text": [
            "Accuracy: 1.0\n"
          ]
        }
      ]
    },
    {
      "cell_type": "code",
      "source": [
        "from sklearn.ensemble import BaggingRegressor\n",
        "from sklearn.tree import DecisionTreeRegressor\n",
        "from sklearn.datasets import fetch_california_housing\n",
        "from sklearn.model_selection import train_test_split\n",
        "from sklearn.metrics import mean_squared_error\n",
        "\n",
        "# Load data\n",
        "data = fetch_california_housing()\n",
        "X_train, X_test, y_train, y_test = train_test_split(data.data, data.target, test_size=0.3, random_state=42)\n",
        "\n",
        "# Create Bagging Regressor\n",
        "model = BaggingRegressor(estimator=DecisionTreeRegressor(), n_estimators=10, random_state=42)\n",
        "model.fit(X_train, y_train)\n",
        "\n",
        "# Predict and evaluate\n",
        "y_pred = model.predict(X_test)\n",
        "print(\"MSE:\", mean_squared_error(y_test, y_pred))\n"
      ],
      "metadata": {
        "colab": {
          "base_uri": "https://localhost:8080/"
        },
        "id": "yMY66uz7FZN9",
        "outputId": "faad65d4-93d9-44cd-922c-696e4a8125be"
      },
      "execution_count": 4,
      "outputs": [
        {
          "output_type": "stream",
          "name": "stdout",
          "text": [
            "MSE: 0.28623579601385674\n"
          ]
        }
      ]
    },
    {
      "cell_type": "code",
      "source": [
        "from sklearn.ensemble import RandomForestClassifier\n",
        "from sklearn.datasets import load_breast_cancer\n",
        "import pandas as pd\n",
        "\n",
        "data = load_breast_cancer()\n",
        "X, y = data.data, data.target\n",
        "feature_names = data.feature_names\n",
        "\n",
        "model = RandomForestClassifier(n_estimators=100, random_state=42)\n",
        "model.fit(X, y)\n",
        "\n",
        "importances = model.feature_importances_\n",
        "importance_df = pd.DataFrame({'Feature': feature_names, 'Importance': importances})\n",
        "importance_df = importance_df.sort_values(by='Importance', ascending=False)\n",
        "\n",
        "print(importance_df)\n"
      ],
      "metadata": {
        "colab": {
          "base_uri": "https://localhost:8080/"
        },
        "id": "SNTVekEhFxyg",
        "outputId": "cc29291d-9a7f-47bd-cdfc-acde44169512"
      },
      "execution_count": 5,
      "outputs": [
        {
          "output_type": "stream",
          "name": "stdout",
          "text": [
            "                    Feature  Importance\n",
            "23               worst area    0.139357\n",
            "27     worst concave points    0.132225\n",
            "7       mean concave points    0.107046\n",
            "20             worst radius    0.082848\n",
            "22          worst perimeter    0.080850\n",
            "2            mean perimeter    0.067990\n",
            "6            mean concavity    0.066917\n",
            "3                 mean area    0.060462\n",
            "26          worst concavity    0.037339\n",
            "0               mean radius    0.034843\n",
            "13               area error    0.029553\n",
            "25        worst compactness    0.019864\n",
            "21            worst texture    0.017485\n",
            "1              mean texture    0.015225\n",
            "10             radius error    0.014264\n",
            "24         worst smoothness    0.012232\n",
            "5          mean compactness    0.011597\n",
            "12          perimeter error    0.010085\n",
            "28           worst symmetry    0.008179\n",
            "4           mean smoothness    0.007958\n",
            "19  fractal dimension error    0.005942\n",
            "16          concavity error    0.005820\n",
            "15        compactness error    0.005612\n",
            "14         smoothness error    0.004722\n",
            "29  worst fractal dimension    0.004497\n",
            "17     concave points error    0.003760\n",
            "11            texture error    0.003744\n",
            "18           symmetry error    0.003546\n",
            "8             mean symmetry    0.003423\n",
            "9    mean fractal dimension    0.002615\n"
          ]
        }
      ]
    },
    {
      "cell_type": "code",
      "source": [
        "from sklearn.ensemble import RandomForestRegressor\n",
        "from sklearn.tree import DecisionTreeRegressor\n",
        "\n",
        "rf = RandomForestRegressor(random_state=42)\n",
        "dt = DecisionTreeRegressor(random_state=42)\n",
        "\n",
        "rf.fit(X_train, y_train)\n",
        "dt.fit(X_train, y_train)\n",
        "\n",
        "rf_pred = rf.predict(X_test)\n",
        "dt_pred = dt.predict(X_test)\n",
        "\n",
        "print(\"Random Forest MSE:\", mean_squared_error(y_test, rf_pred))\n",
        "print(\"Decision Tree MSE:\", mean_squared_error(y_test, dt_pred))\n"
      ],
      "metadata": {
        "colab": {
          "base_uri": "https://localhost:8080/"
        },
        "id": "ER-NMkxsF2fq",
        "outputId": "7a40591b-4680-4d6a-cc15-e8fa32d5d59d"
      },
      "execution_count": 6,
      "outputs": [
        {
          "output_type": "stream",
          "name": "stdout",
          "text": [
            "Random Forest MSE: 0.25650512920799395\n",
            "Decision Tree MSE: 0.5280096503174904\n"
          ]
        }
      ]
    },
    {
      "cell_type": "code",
      "source": [
        "model = RandomForestClassifier(n_estimators=100, oob_score=True, random_state=42)\n",
        "model.fit(X, y)\n",
        "\n",
        "print(\"OOB Score:\", model.oob_score_)\n"
      ],
      "metadata": {
        "colab": {
          "base_uri": "https://localhost:8080/"
        },
        "id": "riHbRNefF4nX",
        "outputId": "45061a45-f507-435f-96b7-b6df9d8c4d5a"
      },
      "execution_count": 7,
      "outputs": [
        {
          "output_type": "stream",
          "name": "stdout",
          "text": [
            "OOB Score: 0.961335676625659\n"
          ]
        }
      ]
    },
    {
      "cell_type": "code",
      "source": [
        "from sklearn.ensemble import BaggingClassifier\n",
        "from sklearn.svm import SVC\n",
        "from sklearn.datasets import load_iris\n",
        "from sklearn.model_selection import train_test_split\n",
        "from sklearn.metrics import accuracy_score\n",
        "\n",
        "X, y = load_iris(return_X_y=True)\n",
        "X_train, X_test, y_train, y_test = train_test_split(X, y, test_size=0.3, random_state=42)\n",
        "\n",
        "model = BaggingClassifier(estimator=SVC(), n_estimators=10, random_state=42)\n",
        "model.fit(X_train, y_train)\n",
        "\n",
        "y_pred = model.predict(X_test)\n",
        "print(\"Accuracy:\", accuracy_score(y_test, y_pred))\n"
      ],
      "metadata": {
        "colab": {
          "base_uri": "https://localhost:8080/"
        },
        "id": "j816kkrCF-wD",
        "outputId": "9d4df3b2-7c05-4708-897d-c6ef11c372f4"
      },
      "execution_count": 8,
      "outputs": [
        {
          "output_type": "stream",
          "name": "stdout",
          "text": [
            "Accuracy: 1.0\n"
          ]
        }
      ]
    },
    {
      "cell_type": "code",
      "source": [
        "from sklearn.ensemble import RandomForestClassifier\n",
        "\n",
        "for n in [10, 50, 100, 200]:\n",
        "    model = RandomForestClassifier(n_estimators=n, random_state=42)\n",
        "    model.fit(X_train, y_train)\n",
        "    acc = model.score(X_test, y_test)\n",
        "    print(f\"n_estimators = {n}, Accuracy = {acc}\")\n"
      ],
      "metadata": {
        "colab": {
          "base_uri": "https://localhost:8080/"
        },
        "id": "JL1ElQvDGHv7",
        "outputId": "fb6583cb-27bf-4e37-b466-7eaf35b71569"
      },
      "execution_count": 9,
      "outputs": [
        {
          "output_type": "stream",
          "name": "stdout",
          "text": [
            "n_estimators = 10, Accuracy = 1.0\n",
            "n_estimators = 50, Accuracy = 1.0\n",
            "n_estimators = 100, Accuracy = 1.0\n",
            "n_estimators = 200, Accuracy = 1.0\n"
          ]
        }
      ]
    },
    {
      "cell_type": "code",
      "source": [
        "model = RandomForestRegressor(n_estimators=100, random_state=42)\n",
        "model.fit(X_train, y_train)\n",
        "\n",
        "importances = model.feature_importances_\n",
        "for name, score in zip(data.feature_names, importances):\n",
        "    print(f\"{name}: {score}\")\n",
        "\n"
      ],
      "metadata": {
        "colab": {
          "base_uri": "https://localhost:8080/"
        },
        "id": "6VAYyZ9GGJRO",
        "outputId": "0a6f2e6e-80a2-42c5-c11e-5938c6ec21b8"
      },
      "execution_count": 11,
      "outputs": [
        {
          "output_type": "stream",
          "name": "stdout",
          "text": [
            "mean radius: 0.0016039081044947078\n",
            "mean texture: 0.018145565329769336\n",
            "mean perimeter: 0.004037450818063752\n",
            "mean area: 0.004618216730676256\n",
            "mean smoothness: 0.002928485162546705\n",
            "mean compactness: 0.0013994870148152153\n",
            "mean concavity: 0.002914947671292822\n",
            "mean concave points: 0.3876414371618101\n",
            "mean symmetry: 0.0020323393543083368\n",
            "mean fractal dimension: 0.0033547084186861306\n",
            "radius error: 0.009379180657777385\n",
            "texture error: 0.0025071787111815035\n",
            "perimeter error: 0.0019892750777769077\n",
            "area error: 0.015524481048698729\n",
            "smoothness error: 0.004006753868688566\n",
            "compactness error: 0.0011120986456267645\n",
            "concavity error: 0.004068442833776752\n",
            "concave points error: 0.0019944892416867894\n",
            "symmetry error: 0.0035134692341821177\n",
            "fractal dimension error: 0.005620973452723385\n",
            "worst radius: 0.04190977548389972\n",
            "worst texture: 0.029699842490275626\n",
            "worst perimeter: 0.12143530351773098\n",
            "worst area: 0.058610279435372024\n",
            "worst smoothness: 0.008784173657613682\n",
            "worst compactness: 0.001873029430201973\n",
            "worst concavity: 0.02160409527897716\n",
            "worst concave points: 0.22910097369119428\n",
            "worst symmetry: 0.004914722623718466\n",
            "worst fractal dimension: 0.003674915852433949\n"
          ]
        }
      ]
    },
    {
      "cell_type": "code",
      "source": [
        "bag_model = BaggingClassifier(estimator=DecisionTreeClassifier(), n_estimators=50, random_state=42)\n",
        "rf_model = RandomForestClassifier(n_estimators=50, random_state=42)\n",
        "\n",
        "bag_model.fit(X_train, y_train)\n",
        "rf_model.fit(X_train, y_train)\n",
        "\n",
        "bag_acc = bag_model.score(X_test, y_test)\n",
        "rf_acc = rf_model.score(X_test, y_test)\n",
        "\n",
        "print(\"Bagging Accuracy:\", bag_acc)\n",
        "print(\"Random Forest Accuracy:\", rf_acc)\n"
      ],
      "metadata": {
        "colab": {
          "base_uri": "https://localhost:8080/"
        },
        "id": "_Ocrwh8kGKxO",
        "outputId": "de7f1a87-05f6-47dc-8c4e-94452bf6656d"
      },
      "execution_count": 12,
      "outputs": [
        {
          "output_type": "stream",
          "name": "stdout",
          "text": [
            "Bagging Accuracy: 0.9590643274853801\n",
            "Random Forest Accuracy: 0.9707602339181286\n"
          ]
        }
      ]
    },
    {
      "cell_type": "code",
      "source": [
        "from sklearn.model_selection import GridSearchCV\n",
        "\n",
        "param_grid = {\n",
        "    'n_estimators': [50, 100],\n",
        "    'max_depth': [None, 10, 20],\n",
        "    'min_samples_split': [2, 5]\n",
        "}\n",
        "\n",
        "grid = GridSearchCV(RandomForestClassifier(random_state=42), param_grid, cv=3)\n",
        "grid.fit(X_train, y_train)\n",
        "\n",
        "print(\"Best Parameters:\", grid.best_params_)\n",
        "print(\"Best Score:\", grid.best_score_)\n"
      ],
      "metadata": {
        "colab": {
          "base_uri": "https://localhost:8080/"
        },
        "id": "hir_zTbLGSNb",
        "outputId": "541c6b91-34a5-466d-a597-e181669b747a"
      },
      "execution_count": 13,
      "outputs": [
        {
          "output_type": "stream",
          "name": "stdout",
          "text": [
            "Best Parameters: {'max_depth': None, 'min_samples_split': 2, 'n_estimators': 50}\n",
            "Best Score: 0.9622920938710413\n"
          ]
        }
      ]
    },
    {
      "cell_type": "code",
      "source": [
        "for n in [10, 50, 100]:\n",
        "    model = BaggingRegressor(estimator=DecisionTreeRegressor(), n_estimators=n, random_state=42)\n",
        "    model.fit(X_train, y_train)\n",
        "    y_pred = model.predict(X_test)\n",
        "    mse = mean_squared_error(y_test, y_pred)\n",
        "    print(f\"n_estimators = {n}, MSE = {mse}\")\n"
      ],
      "metadata": {
        "colab": {
          "base_uri": "https://localhost:8080/"
        },
        "id": "mDSWufsKGULw",
        "outputId": "9487e1f3-c860-4f2d-ccd6-9cc9c4691834"
      },
      "execution_count": 14,
      "outputs": [
        {
          "output_type": "stream",
          "name": "stdout",
          "text": [
            "n_estimators = 10, MSE = 0.03923976608187135\n",
            "n_estimators = 50, MSE = 0.03394152046783626\n",
            "n_estimators = 100, MSE = 0.03374912280701754\n"
          ]
        }
      ]
    },
    {
      "cell_type": "code",
      "source": [
        "from sklearn.metrics import confusion_matrix, ConfusionMatrixDisplay\n",
        "import matplotlib.pyplot as plt\n",
        "\n",
        "model = RandomForestClassifier(n_estimators=100, random_state=42)\n",
        "model.fit(X_train, y_train)\n",
        "y_pred = model.predict(X_test)\n",
        "\n",
        "cm = confusion_matrix(y_test, y_pred)\n",
        "disp = ConfusionMatrixDisplay(confusion_matrix=cm)\n",
        "disp.plot()\n",
        "plt.title(\"Confusion Matrix - Random Forest\")\n",
        "plt.show()\n"
      ],
      "metadata": {
        "colab": {
          "base_uri": "https://localhost:8080/",
          "height": 472
        },
        "id": "1Tc-BnpVGX6O",
        "outputId": "8c36e647-23da-4021-bf1a-c5dc6d8e8d6f"
      },
      "execution_count": 15,
      "outputs": [
        {
          "output_type": "display_data",
          "data": {
            "text/plain": [
              "<Figure size 640x480 with 2 Axes>"
            ],
            "image/png": "[encoded data removed]"
          },
          "metadata": {}
        }
      ]
    },
    {
      "cell_type": "code",
      "source": [
        "from sklearn.metrics import precision_score, recall_score, f1_score\n",
        "\n",
        "model = BaggingClassifier(estimator=DecisionTreeClassifier(), n_estimators=50, random_state=42)\n",
        "model.fit(X_train, y_train)\n",
        "y_pred = model.predict(X_test)\n",
        "\n",
        "print(\"Precision:\", precision_score(y_test, y_pred))\n",
        "print(\"Recall:\", recall_score(y_test, y_pred))\n",
        "print(\"F1 Score:\", f1_score(y_test, y_pred))\n"
      ],
      "metadata": {
        "id": "JoaxqBQtGc-l",
        "outputId": "8eb0d68c-aa0c-4b69-83ef-1a7ea49d5115",
        "colab": {
          "base_uri": "https://localhost:8080/"
        }
      },
      "execution_count": 16,
      "outputs": [
        {
          "output_type": "stream",
          "name": "stdout",
          "text": [
            "Precision: 0.963302752293578\n",
            "Recall: 0.9722222222222222\n",
            "F1 Score: 0.967741935483871\n"
          ]
        }
      ]
    },
    {
      "cell_type": "code",
      "source": [
        "from sklearn.metrics import roc_auc_score\n",
        "\n",
        "model = RandomForestClassifier(n_estimators=100, random_state=42)\n",
        "model.fit(X_train, y_train)\n",
        "y_prob = model.predict_proba(X_test)[:, 1]\n",
        "\n",
        "print(\"ROC-AUC Score:\", roc_auc_score(y_test, y_prob))\n"
      ],
      "metadata": {
        "id": "f7gBhknkGemf",
        "outputId": "0fc6feda-2ee2-4604-9d14-9a93861b7434",
        "colab": {
          "base_uri": "https://localhost:8080/"
        }
      },
      "execution_count": 17,
      "outputs": [
        {
          "output_type": "stream",
          "name": "stdout",
          "text": [
            "ROC-AUC Score: 0.9968400940623163\n"
          ]
        }
      ]
    },
    {
      "cell_type": "code",
      "source": [
        "from sklearn.model_selection import cross_val_score\n",
        "\n",
        "model = BaggingClassifier(estimator=DecisionTreeClassifier(), n_estimators=50, random_state=42)\n",
        "scores = cross_val_score(model, X, y, cv=5)\n",
        "\n",
        "print(\"Cross-validation scores:\", scores)\n",
        "print(\"Average score:\", scores.mean())\n"
      ],
      "metadata": {
        "id": "rkQc0oqvGgw7",
        "outputId": "b006fca9-fdd3-4abe-95d3-c342e2f3373d",
        "colab": {
          "base_uri": "https://localhost:8080/"
        }
      },
      "execution_count": 18,
      "outputs": [
        {
          "output_type": "stream",
          "name": "stdout",
          "text": [
            "Cross-validation scores: [0.9122807  0.92105263 0.98245614 0.95614035 1.        ]\n",
            "Average score: 0.9543859649122808\n"
          ]
        }
      ]
    },
    {
      "cell_type": "code",
      "source": [
        "from sklearn.metrics import precision_recall_curve, PrecisionRecallDisplay\n",
        "\n",
        "model = RandomForestClassifier(n_estimators=100, random_state=42)\n",
        "model.fit(X_train, y_train)\n",
        "y_prob = model.predict_proba(X_test)[:, 1]\n",
        "\n",
        "precision, recall, _ = precision_recall_curve(y_test, y_prob)\n",
        "disp = PrecisionRecallDisplay(precision=precision, recall=recall)\n",
        "disp.plot()\n",
        "plt.title(\"Precision-Recall Curve - Random Forest\")\n",
        "plt.show()\n"
      ],
      "metadata": {
        "id": "a8J3kwxLGiac",
        "outputId": "0f21369a-04b1-4586-c762-167ba042ac68",
        "colab": {
          "base_uri": "https://localhost:8080/",
          "height": 472
        }
      },
      "execution_count": 19,
      "outputs": [
        {
          "output_type": "display_data",
          "data": {
            "text/plain": [
              "<Figure size 640x480 with 1 Axes>"
            ],
            "image/png": "[encoded data removed]"
          },
          "metadata": {}
        }
      ]
    },
    {
      "cell_type": "code",
      "source": [
        "from sklearn.ensemble import StackingClassifier\n",
        "from sklearn.linear_model import LogisticRegression\n",
        "from sklearn.svm import SVC\n",
        "\n",
        "estimators = [\n",
        "    ('dt', DecisionTreeClassifier()),\n",
        "    ('svm', SVC(probability=True)),\n",
        "]\n",
        "\n",
        "model = StackingClassifier(estimators=estimators, final_estimator=LogisticRegression())\n",
        "model.fit(X_train, y_train)\n",
        "print(\"Stacking Classifier Accuracy:\", model.score(X_test, y_test))\n"
      ],
      "metadata": {
        "id": "_-uvEAEFGkNR",
        "outputId": "93f53b87-cfb0-4ac4-f5d0-8c5c20bdcfd1",
        "colab": {
          "base_uri": "https://localhost:8080/"
        }
      },
      "execution_count": 20,
      "outputs": [
        {
          "output_type": "stream",
          "name": "stdout",
          "text": [
            "Stacking Classifier Accuracy: 0.9707602339181286\n"
          ]
        }
      ]
    },
    {
      "cell_type": "code",
      "source": [
        "import pandas as pd\n",
        "model = RandomForestClassifier(n_estimators=100, random_state=42)\n",
        "model.fit(X, y)\n",
        "\n",
        "importances = model.feature_importances_\n",
        "top5 = pd.Series(importances, index=data.feature_names).sort_values(ascending=False).head(5)\n",
        "print(\"Top 5 Important Features:\\n\", top5)\n"
      ],
      "metadata": {
        "id": "vaByLwUEGm7M",
        "outputId": "6b8f012d-633d-40d6-aacb-e1e11f4049ef",
        "colab": {
          "base_uri": "https://localhost:8080/"
        }
      },
      "execution_count": 21,
      "outputs": [
        {
          "output_type": "stream",
          "name": "stdout",
          "text": [
            "Top 5 Important Features:\n",
            " worst area              0.139357\n",
            "worst concave points    0.132225\n",
            "mean concave points     0.107046\n",
            "worst radius            0.082848\n",
            "worst perimeter         0.080850\n",
            "dtype: float64\n"
          ]
        }
      ]
    },
    {
      "cell_type": "code",
      "source": [
        "for depth in [2, 4, 6, 8, None]:\n",
        "    model = RandomForestClassifier(max_depth=depth, random_state=42)\n",
        "    model.fit(X_train, y_train)\n",
        "    acc = model.score(X_test, y_test)\n",
        "    print(f\"max_depth = {depth}, Accuracy = {acc}\")\n"
      ],
      "metadata": {
        "id": "ZhpLaP8rGorY",
        "outputId": "5229f498-1d42-4f78-c059-010b1996125b",
        "colab": {
          "base_uri": "https://localhost:8080/"
        }
      },
      "execution_count": 22,
      "outputs": [
        {
          "output_type": "stream",
          "name": "stdout",
          "text": [
            "max_depth = 2, Accuracy = 0.9532163742690059\n",
            "max_depth = 4, Accuracy = 0.9707602339181286\n",
            "max_depth = 6, Accuracy = 0.9649122807017544\n",
            "max_depth = 8, Accuracy = 0.9707602339181286\n",
            "max_depth = None, Accuracy = 0.9707602339181286\n"
          ]
        }
      ]
    },
    {
      "cell_type": "code",
      "source": [
        "from sklearn.neighbors import KNeighborsRegressor\n",
        "\n",
        "models = {\n",
        "    \"Decision Tree\": DecisionTreeRegressor(),\n",
        "    \"KNN\": KNeighborsRegressor()\n",
        "}\n",
        "\n",
        "for name, estimator in models.items():\n",
        "    bag_model = BaggingRegressor(estimator=estimator, n_estimators=50, random_state=42)\n",
        "    bag_model.fit(X_train, y_train)\n",
        "    y_pred = bag_model.predict(X_test)\n",
        "    mse = mean_squared_error(y_test, y_pred)\n",
        "    print(f\"{name} - MSE: {mse}\")\n"
      ],
      "metadata": {
        "id": "cljwpXsfGq-o",
        "outputId": "1f366b0d-b741-453a-ad8e-26ef57b04185",
        "colab": {
          "base_uri": "https://localhost:8080/"
        }
      },
      "execution_count": 23,
      "outputs": [
        {
          "output_type": "stream",
          "name": "stdout",
          "text": [
            "Decision Tree - MSE: 0.03394152046783626\n",
            "KNN - MSE: 0.027463204678362566\n"
          ]
        }
      ]
    },
    {
      "cell_type": "code",
      "source": [
        "for bootstrap in [True, False]:\n",
        "    model = BaggingRegressor(estimator=DecisionTreeRegressor(), n_estimators=50, bootstrap=bootstrap, random_state=42)\n",
        "    model.fit(X_train, y_train)\n",
        "    y_pred = model.predict(X_test)\n",
        "    mse = mean_squared_error(y_test, y_pred)\n",
        "    print(f\"Bootstrap={bootstrap} - MSE: {mse}\")\n"
      ],
      "metadata": {
        "id": "aML2lwCCGsUO",
        "outputId": "c4aa5d21-24eb-4447-8772-6046e4d58e3f",
        "colab": {
          "base_uri": "https://localhost:8080/"
        }
      },
      "execution_count": 24,
      "outputs": [
        {
          "output_type": "stream",
          "name": "stdout",
          "text": [
            "Bootstrap=True - MSE: 0.03394152046783626\n",
            "Bootstrap=False - MSE: 0.06063625730994152\n"
          ]
        }
      ]
    },
    {
      "cell_type": "code",
      "source": [],
      "metadata": {
        "id": "TWiI4wf5GttM"
      },
      "execution_count": null,
      "outputs": []
    }
  ]
}